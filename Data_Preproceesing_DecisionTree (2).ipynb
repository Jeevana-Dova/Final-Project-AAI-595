{
 "cells": [
  {
   "cell_type": "code",
   "execution_count": 1,
   "metadata": {
    "id": "JS7v4VMMeX2m"
   },
   "outputs": [],
   "source": [
    "import pandas as pd\n",
    "import numpy as np\n",
    "from sklearn.preprocessing import StandardScaler\n",
    "from sklearn.model_selection import train_test_split\n",
    "from sklearn.ensemble import RandomForestRegressor\n",
    "from sklearn.metrics import mean_squared_error, r2_score\n",
    "from sklearn.tree import plot_tree\n",
    "import matplotlib.pyplot as plt"
   ]
  },
  {
   "cell_type": "code",
   "execution_count": 2,
   "metadata": {
    "id": "GZZTqLEuehKS"
   },
   "outputs": [],
   "source": [
    "df = pd.read_csv('car_resale_prices.csv')"
   ]
  },
  {
   "cell_type": "code",
   "execution_count": 3,
   "metadata": {
    "colab": {
     "base_uri": "https://localhost:8080/",
     "height": 469
    },
    "id": "8AtckSDVekMx",
    "outputId": "97827e19-0fae-47c2-be38-deca4098dd86"
   },
   "outputs": [
    {
     "data": {
      "text/html": [
       "<div>\n",
       "<style scoped>\n",
       "    .dataframe tbody tr th:only-of-type {\n",
       "        vertical-align: middle;\n",
       "    }\n",
       "\n",
       "    .dataframe tbody tr th {\n",
       "        vertical-align: top;\n",
       "    }\n",
       "\n",
       "    .dataframe thead th {\n",
       "        text-align: right;\n",
       "    }\n",
       "</style>\n",
       "<table border=\"1\" class=\"dataframe\">\n",
       "  <thead>\n",
       "    <tr style=\"text-align: right;\">\n",
       "      <th></th>\n",
       "      <th>Unnamed: 0</th>\n",
       "      <th>full_name</th>\n",
       "      <th>resale_price</th>\n",
       "      <th>registered_year</th>\n",
       "      <th>engine_capacity</th>\n",
       "      <th>insurance</th>\n",
       "      <th>transmission_type</th>\n",
       "      <th>kms_driven</th>\n",
       "      <th>owner_type</th>\n",
       "      <th>fuel_type</th>\n",
       "      <th>max_power</th>\n",
       "      <th>seats</th>\n",
       "      <th>mileage</th>\n",
       "      <th>body_type</th>\n",
       "      <th>city</th>\n",
       "    </tr>\n",
       "  </thead>\n",
       "  <tbody>\n",
       "    <tr>\n",
       "      <th>0</th>\n",
       "      <td>0</td>\n",
       "      <td>2017 Maruti Baleno 1.2 Alpha</td>\n",
       "      <td>₹ 5.45 Lakh</td>\n",
       "      <td>2017</td>\n",
       "      <td>1197 cc</td>\n",
       "      <td>Third Party insurance</td>\n",
       "      <td>Manual</td>\n",
       "      <td>40,000 Kms</td>\n",
       "      <td>First Owner</td>\n",
       "      <td>Petrol</td>\n",
       "      <td>83.1bhp</td>\n",
       "      <td>5.0</td>\n",
       "      <td>21.4 kmpl</td>\n",
       "      <td>Hatchback</td>\n",
       "      <td>Agra</td>\n",
       "    </tr>\n",
       "    <tr>\n",
       "      <th>1</th>\n",
       "      <td>1</td>\n",
       "      <td>2018 Tata Hexa XTA</td>\n",
       "      <td>₹ 10 Lakh</td>\n",
       "      <td>2018</td>\n",
       "      <td>2179 cc</td>\n",
       "      <td>Third Party insurance</td>\n",
       "      <td>Automatic</td>\n",
       "      <td>70,000 Kms</td>\n",
       "      <td>First Owner</td>\n",
       "      <td>Diesel</td>\n",
       "      <td>153.86bhp</td>\n",
       "      <td>7.0</td>\n",
       "      <td>17.6 kmpl</td>\n",
       "      <td>MUV</td>\n",
       "      <td>Agra</td>\n",
       "    </tr>\n",
       "    <tr>\n",
       "      <th>2</th>\n",
       "      <td>2</td>\n",
       "      <td>2015 Maruti Swift Dzire VXI</td>\n",
       "      <td>₹ 4.50 Lakh</td>\n",
       "      <td>2015</td>\n",
       "      <td>1197 cc</td>\n",
       "      <td>Third Party insurance</td>\n",
       "      <td>Manual</td>\n",
       "      <td>70,000 Kms</td>\n",
       "      <td>Second Owner</td>\n",
       "      <td>Petrol</td>\n",
       "      <td>83.14bhp</td>\n",
       "      <td>5.0</td>\n",
       "      <td>20.85 kmpl</td>\n",
       "      <td>Sedan</td>\n",
       "      <td>Agra</td>\n",
       "    </tr>\n",
       "    <tr>\n",
       "      <th>3</th>\n",
       "      <td>3</td>\n",
       "      <td>2015 Maruti Swift Dzire VXI</td>\n",
       "      <td>₹ 4.50 Lakh</td>\n",
       "      <td>2015</td>\n",
       "      <td>1197 cc</td>\n",
       "      <td>Third Party insurance</td>\n",
       "      <td>Manual</td>\n",
       "      <td>70,000 Kms</td>\n",
       "      <td>Second Owner</td>\n",
       "      <td>Petrol</td>\n",
       "      <td>83.14bhp</td>\n",
       "      <td>5.0</td>\n",
       "      <td>20.85 kmpl</td>\n",
       "      <td>Sedan</td>\n",
       "      <td>Agra</td>\n",
       "    </tr>\n",
       "    <tr>\n",
       "      <th>4</th>\n",
       "      <td>4</td>\n",
       "      <td>2009 Hyundai i10 Magna 1.1</td>\n",
       "      <td>₹ 1.60 Lakh</td>\n",
       "      <td>2009</td>\n",
       "      <td>1086 cc</td>\n",
       "      <td>Third Party insurance</td>\n",
       "      <td>Manual</td>\n",
       "      <td>80,000 Kms</td>\n",
       "      <td>First Owner</td>\n",
       "      <td>Petrol</td>\n",
       "      <td>68.05bhp</td>\n",
       "      <td>5.0</td>\n",
       "      <td>19.81 kmpl</td>\n",
       "      <td>Hatchback</td>\n",
       "      <td>Agra</td>\n",
       "    </tr>\n",
       "  </tbody>\n",
       "</table>\n",
       "</div>"
      ],
      "text/plain": [
       "   Unnamed: 0                     full_name resale_price registered_year  \\\n",
       "0           0  2017 Maruti Baleno 1.2 Alpha  ₹ 5.45 Lakh            2017   \n",
       "1           1            2018 Tata Hexa XTA    ₹ 10 Lakh            2018   \n",
       "2           2   2015 Maruti Swift Dzire VXI  ₹ 4.50 Lakh            2015   \n",
       "3           3   2015 Maruti Swift Dzire VXI  ₹ 4.50 Lakh            2015   \n",
       "4           4    2009 Hyundai i10 Magna 1.1  ₹ 1.60 Lakh            2009   \n",
       "\n",
       "  engine_capacity              insurance transmission_type  kms_driven  \\\n",
       "0         1197 cc  Third Party insurance            Manual  40,000 Kms   \n",
       "1         2179 cc  Third Party insurance         Automatic  70,000 Kms   \n",
       "2         1197 cc  Third Party insurance            Manual  70,000 Kms   \n",
       "3         1197 cc  Third Party insurance            Manual  70,000 Kms   \n",
       "4         1086 cc  Third Party insurance            Manual  80,000 Kms   \n",
       "\n",
       "     owner_type fuel_type  max_power  seats     mileage  body_type  city  \n",
       "0   First Owner    Petrol    83.1bhp    5.0   21.4 kmpl  Hatchback  Agra  \n",
       "1   First Owner    Diesel  153.86bhp    7.0   17.6 kmpl        MUV  Agra  \n",
       "2  Second Owner    Petrol   83.14bhp    5.0  20.85 kmpl      Sedan  Agra  \n",
       "3  Second Owner    Petrol   83.14bhp    5.0  20.85 kmpl      Sedan  Agra  \n",
       "4   First Owner    Petrol   68.05bhp    5.0  19.81 kmpl  Hatchback  Agra  "
      ]
     },
     "execution_count": 3,
     "metadata": {},
     "output_type": "execute_result"
    }
   ],
   "source": [
    "df.head()"
   ]
  },
  {
   "cell_type": "code",
   "execution_count": 4,
   "metadata": {
    "colab": {
     "base_uri": "https://localhost:8080/",
     "height": 554
    },
    "id": "7O8uHWRemMY7",
    "outputId": "fdb0208d-359b-403d-a02a-12313eee4f63"
   },
   "outputs": [
    {
     "data": {
      "text/plain": [
       "Unnamed: 0             0\n",
       "full_name              0\n",
       "resale_price           0\n",
       "registered_year       69\n",
       "engine_capacity       14\n",
       "insurance              7\n",
       "transmission_type      0\n",
       "kms_driven             3\n",
       "owner_type            45\n",
       "fuel_type              0\n",
       "max_power            102\n",
       "seats                 10\n",
       "mileage              508\n",
       "body_type              0\n",
       "city                   0\n",
       "dtype: int64"
      ]
     },
     "execution_count": 4,
     "metadata": {},
     "output_type": "execute_result"
    }
   ],
   "source": [
    "df.isnull().sum()"
   ]
  },
  {
   "cell_type": "code",
   "execution_count": 5,
   "metadata": {
    "colab": {
     "base_uri": "https://localhost:8080/"
    },
    "id": "WQb_WIc9a_iI",
    "outputId": "569be5e5-aa7c-4d9e-fd6e-00d1d424076f"
   },
   "outputs": [
    {
     "data": {
      "text/plain": [
       "0"
      ]
     },
     "execution_count": 5,
     "metadata": {},
     "output_type": "execute_result"
    }
   ],
   "source": [
    "df['registered_year'] = df['full_name'].apply(lambda x: x.split(' ')[0]).astype(float)\n",
    "df['registered_year'].isnull().sum()"
   ]
  },
  {
   "cell_type": "code",
   "execution_count": 6,
   "metadata": {
    "colab": {
     "base_uri": "https://localhost:8080/",
     "height": 554
    },
    "id": "TFci8_qabOOY",
    "outputId": "746a71cf-4aaf-4649-c6de-f73e98a484a7"
   },
   "outputs": [
    {
     "data": {
      "text/plain": [
       "Unnamed: 0           0\n",
       "full_name            0\n",
       "resale_price         0\n",
       "registered_year      0\n",
       "engine_capacity      0\n",
       "insurance            0\n",
       "transmission_type    0\n",
       "kms_driven           0\n",
       "owner_type           0\n",
       "fuel_type            0\n",
       "max_power            0\n",
       "seats                0\n",
       "mileage              0\n",
       "body_type            0\n",
       "city                 0\n",
       "dtype: int64"
      ]
     },
     "execution_count": 6,
     "metadata": {},
     "output_type": "execute_result"
    }
   ],
   "source": [
    "df.dropna(inplace = True)\n",
    "df.isnull().sum()"
   ]
  },
  {
   "cell_type": "code",
   "execution_count": 7,
   "metadata": {
    "colab": {
     "base_uri": "https://localhost:8080/"
    },
    "id": "jYGCtyvmbT6w",
    "outputId": "635cc5b2-9389-4e4e-ae09-13bc09915e35"
   },
   "outputs": [
    {
     "name": "stdout",
     "output_type": "stream",
     "text": [
      "<class 'pandas.core.frame.DataFrame'>\n",
      "Index: 16808 entries, 0 to 17445\n",
      "Data columns (total 15 columns):\n",
      " #   Column             Non-Null Count  Dtype  \n",
      "---  ------             --------------  -----  \n",
      " 0   Unnamed: 0         16808 non-null  int64  \n",
      " 1   full_name          16808 non-null  object \n",
      " 2   resale_price       16808 non-null  object \n",
      " 3   registered_year    16808 non-null  float64\n",
      " 4   engine_capacity    16808 non-null  object \n",
      " 5   insurance          16808 non-null  object \n",
      " 6   transmission_type  16808 non-null  object \n",
      " 7   kms_driven         16808 non-null  object \n",
      " 8   owner_type         16808 non-null  object \n",
      " 9   fuel_type          16808 non-null  object \n",
      " 10  max_power          16808 non-null  object \n",
      " 11  seats              16808 non-null  float64\n",
      " 12  mileage            16808 non-null  object \n",
      " 13  body_type          16808 non-null  object \n",
      " 14  city               16808 non-null  object \n",
      "dtypes: float64(2), int64(1), object(12)\n",
      "memory usage: 2.1+ MB\n"
     ]
    }
   ],
   "source": [
    "df.info()"
   ]
  },
  {
   "cell_type": "code",
   "execution_count": 8,
   "metadata": {
    "colab": {
     "base_uri": "https://localhost:8080/",
     "height": 469
    },
    "id": "UcegjFoZbfWt",
    "outputId": "bbc8cb2a-3eee-45d0-b73c-66ce0a7be210"
   },
   "outputs": [
    {
     "data": {
      "text/html": [
       "<div>\n",
       "<style scoped>\n",
       "    .dataframe tbody tr th:only-of-type {\n",
       "        vertical-align: middle;\n",
       "    }\n",
       "\n",
       "    .dataframe tbody tr th {\n",
       "        vertical-align: top;\n",
       "    }\n",
       "\n",
       "    .dataframe thead th {\n",
       "        text-align: right;\n",
       "    }\n",
       "</style>\n",
       "<table border=\"1\" class=\"dataframe\">\n",
       "  <thead>\n",
       "    <tr style=\"text-align: right;\">\n",
       "      <th></th>\n",
       "      <th>Unnamed: 0</th>\n",
       "      <th>full_name</th>\n",
       "      <th>resale_price</th>\n",
       "      <th>registered_year</th>\n",
       "      <th>engine_capacity</th>\n",
       "      <th>insurance</th>\n",
       "      <th>transmission_type</th>\n",
       "      <th>kms_driven</th>\n",
       "      <th>owner_type</th>\n",
       "      <th>fuel_type</th>\n",
       "      <th>max_power</th>\n",
       "      <th>seats</th>\n",
       "      <th>mileage</th>\n",
       "      <th>body_type</th>\n",
       "      <th>city</th>\n",
       "    </tr>\n",
       "  </thead>\n",
       "  <tbody>\n",
       "    <tr>\n",
       "      <th>0</th>\n",
       "      <td>0</td>\n",
       "      <td>2017 Maruti Baleno 1.2 Alpha</td>\n",
       "      <td>₹ 5.45 Lakh</td>\n",
       "      <td>2017.0</td>\n",
       "      <td>1197 cc</td>\n",
       "      <td>Third Party insurance</td>\n",
       "      <td>Manual</td>\n",
       "      <td>40,000 Kms</td>\n",
       "      <td>First Owner</td>\n",
       "      <td>Petrol</td>\n",
       "      <td>83.1bhp</td>\n",
       "      <td>5.0</td>\n",
       "      <td>21.4 kmpl</td>\n",
       "      <td>Hatchback</td>\n",
       "      <td>Agra</td>\n",
       "    </tr>\n",
       "    <tr>\n",
       "      <th>1</th>\n",
       "      <td>1</td>\n",
       "      <td>2018 Tata Hexa XTA</td>\n",
       "      <td>₹ 10 Lakh</td>\n",
       "      <td>2018.0</td>\n",
       "      <td>2179 cc</td>\n",
       "      <td>Third Party insurance</td>\n",
       "      <td>Automatic</td>\n",
       "      <td>70,000 Kms</td>\n",
       "      <td>First Owner</td>\n",
       "      <td>Diesel</td>\n",
       "      <td>153.86bhp</td>\n",
       "      <td>7.0</td>\n",
       "      <td>17.6 kmpl</td>\n",
       "      <td>MUV</td>\n",
       "      <td>Agra</td>\n",
       "    </tr>\n",
       "    <tr>\n",
       "      <th>2</th>\n",
       "      <td>2</td>\n",
       "      <td>2015 Maruti Swift Dzire VXI</td>\n",
       "      <td>₹ 4.50 Lakh</td>\n",
       "      <td>2015.0</td>\n",
       "      <td>1197 cc</td>\n",
       "      <td>Third Party insurance</td>\n",
       "      <td>Manual</td>\n",
       "      <td>70,000 Kms</td>\n",
       "      <td>Second Owner</td>\n",
       "      <td>Petrol</td>\n",
       "      <td>83.14bhp</td>\n",
       "      <td>5.0</td>\n",
       "      <td>20.85 kmpl</td>\n",
       "      <td>Sedan</td>\n",
       "      <td>Agra</td>\n",
       "    </tr>\n",
       "    <tr>\n",
       "      <th>3</th>\n",
       "      <td>3</td>\n",
       "      <td>2015 Maruti Swift Dzire VXI</td>\n",
       "      <td>₹ 4.50 Lakh</td>\n",
       "      <td>2015.0</td>\n",
       "      <td>1197 cc</td>\n",
       "      <td>Third Party insurance</td>\n",
       "      <td>Manual</td>\n",
       "      <td>70,000 Kms</td>\n",
       "      <td>Second Owner</td>\n",
       "      <td>Petrol</td>\n",
       "      <td>83.14bhp</td>\n",
       "      <td>5.0</td>\n",
       "      <td>20.85 kmpl</td>\n",
       "      <td>Sedan</td>\n",
       "      <td>Agra</td>\n",
       "    </tr>\n",
       "    <tr>\n",
       "      <th>4</th>\n",
       "      <td>4</td>\n",
       "      <td>2009 Hyundai i10 Magna 1.1</td>\n",
       "      <td>₹ 1.60 Lakh</td>\n",
       "      <td>2009.0</td>\n",
       "      <td>1086 cc</td>\n",
       "      <td>Third Party insurance</td>\n",
       "      <td>Manual</td>\n",
       "      <td>80,000 Kms</td>\n",
       "      <td>First Owner</td>\n",
       "      <td>Petrol</td>\n",
       "      <td>68.05bhp</td>\n",
       "      <td>5.0</td>\n",
       "      <td>19.81 kmpl</td>\n",
       "      <td>Hatchback</td>\n",
       "      <td>Agra</td>\n",
       "    </tr>\n",
       "  </tbody>\n",
       "</table>\n",
       "</div>"
      ],
      "text/plain": [
       "   Unnamed: 0                     full_name resale_price  registered_year  \\\n",
       "0           0  2017 Maruti Baleno 1.2 Alpha  ₹ 5.45 Lakh           2017.0   \n",
       "1           1            2018 Tata Hexa XTA    ₹ 10 Lakh           2018.0   \n",
       "2           2   2015 Maruti Swift Dzire VXI  ₹ 4.50 Lakh           2015.0   \n",
       "3           3   2015 Maruti Swift Dzire VXI  ₹ 4.50 Lakh           2015.0   \n",
       "4           4    2009 Hyundai i10 Magna 1.1  ₹ 1.60 Lakh           2009.0   \n",
       "\n",
       "  engine_capacity              insurance transmission_type  kms_driven  \\\n",
       "0         1197 cc  Third Party insurance            Manual  40,000 Kms   \n",
       "1         2179 cc  Third Party insurance         Automatic  70,000 Kms   \n",
       "2         1197 cc  Third Party insurance            Manual  70,000 Kms   \n",
       "3         1197 cc  Third Party insurance            Manual  70,000 Kms   \n",
       "4         1086 cc  Third Party insurance            Manual  80,000 Kms   \n",
       "\n",
       "     owner_type fuel_type  max_power  seats     mileage  body_type  city  \n",
       "0   First Owner    Petrol    83.1bhp    5.0   21.4 kmpl  Hatchback  Agra  \n",
       "1   First Owner    Diesel  153.86bhp    7.0   17.6 kmpl        MUV  Agra  \n",
       "2  Second Owner    Petrol   83.14bhp    5.0  20.85 kmpl      Sedan  Agra  \n",
       "3  Second Owner    Petrol   83.14bhp    5.0  20.85 kmpl      Sedan  Agra  \n",
       "4   First Owner    Petrol   68.05bhp    5.0  19.81 kmpl  Hatchback  Agra  "
      ]
     },
     "execution_count": 8,
     "metadata": {},
     "output_type": "execute_result"
    }
   ],
   "source": [
    "df.head()"
   ]
  },
  {
   "cell_type": "markdown",
   "metadata": {
    "id": "TgylezyLbzw9"
   },
   "source": [
    "## Formatting Numerical Data\n",
    "# Data Preprocessing"
   ]
  },
  {
   "cell_type": "code",
   "execution_count": 9,
   "metadata": {
    "id": "L1fMhL3ybk1s"
   },
   "outputs": [],
   "source": [
    "num_cols = ['seats', 'registered_year']"
   ]
  },
  {
   "cell_type": "code",
   "execution_count": 10,
   "metadata": {
    "id": "wo_gsjS2cCpX"
   },
   "outputs": [],
   "source": [
    "def format_price(resale_price):\n",
    "    split = resale_price.split(' ')\n",
    "    k = len(split)\n",
    "    if(k == 2):\n",
    "        return float(str(split[1]).replace(',', ''))\n",
    "    elif(split[-1] == 'Lakh'):\n",
    "        return float(str(split[1]))*100000\n",
    "    return float(str(split[1]))*10000000\n",
    "\n",
    "df['num_price'] = df['resale_price'].apply(format_price)\n",
    "num_cols.append('num_price')"
   ]
  },
  {
   "cell_type": "code",
   "execution_count": 11,
   "metadata": {
    "id": "YVhn3GdncXUC"
   },
   "outputs": [],
   "source": [
    "def format_kms(kms_driven):\n",
    "    if kms_driven.split(' ')[1] != 'Kms':\n",
    "        print(kms_driven.split(' ')[1])\n",
    "    return float(str(kms_driven.split(' ')[0]).replace(',', ''))\n",
    "\n",
    "df['num_kms'] = df['kms_driven'].apply(format_kms)\n",
    "num_cols.append('num_kms')"
   ]
  },
  {
   "cell_type": "code",
   "execution_count": 12,
   "metadata": {
    "id": "19eXSPp5ceRQ"
   },
   "outputs": [],
   "source": [
    "def format_engine(engine_capacity):\n",
    "    if engine_capacity.split(' ')[1] != 'cc':\n",
    "        print(engine_capacity.split(' ')[1])\n",
    "    return float(str(engine_capacity.split(' ')[0]))\n",
    "\n",
    "df['num_engine'] = df['engine_capacity'].apply(format_engine)\n",
    "num_cols.append('num_engine')"
   ]
  },
  {
   "cell_type": "code",
   "execution_count": 13,
   "metadata": {
    "colab": {
     "base_uri": "https://localhost:8080/",
     "height": 489
    },
    "id": "x6glmFuMciXA",
    "outputId": "bbfad85e-ec13-4247-fb08-7dbf212e46f8"
   },
   "outputs": [
    {
     "data": {
      "text/plain": [
       "max_power\n",
       "bhp    16131\n",
       "rpm      253\n",
       " PS       78\n",
       "102       31\n",
       "78        23\n",
       "       ...  \n",
       "6.7        1\n",
       "5.2        1\n",
       "47         1\n",
       "9PS        1\n",
       "4.9        1\n",
       "Name: count, Length: 73, dtype: int64"
      ]
     },
     "execution_count": 13,
     "metadata": {},
     "output_type": "execute_result"
    }
   ],
   "source": [
    "df['max_power'].apply(lambda x: x[-3:]).value_counts()"
   ]
  },
  {
   "cell_type": "code",
   "execution_count": 14,
   "metadata": {
    "id": "1NQXRZMZdct0"
   },
   "outputs": [],
   "source": [
    "df = df.drop(df[df['max_power'].apply(lambda x: x[-3:]).str.lower() != 'bhp'].index)"
   ]
  },
  {
   "cell_type": "code",
   "execution_count": 15,
   "metadata": {
    "id": "GkkaElC5ePtQ"
   },
   "outputs": [],
   "source": [
    "df['max_power'] = df['max_power'].apply(lambda x : x[:-3]).astype(float)\n",
    "\n",
    "num_cols.append('max_power')"
   ]
  },
  {
   "cell_type": "code",
   "execution_count": 16,
   "metadata": {
    "colab": {
     "base_uri": "https://localhost:8080/",
     "height": 178
    },
    "id": "AGwPUo1Uegn5",
    "outputId": "86d7f58f-6323-4afd-9044-cab674d2ff18"
   },
   "outputs": [
    {
     "data": {
      "text/plain": [
       "mileage\n",
       "kmpl     15993\n",
       "km/kg      151\n",
       "Name: count, dtype: int64"
      ]
     },
     "execution_count": 16,
     "metadata": {},
     "output_type": "execute_result"
    }
   ],
   "source": [
    "df['mileage'].apply(lambda x: x.split(' ')[-1]).value_counts()\n"
   ]
  },
  {
   "cell_type": "code",
   "execution_count": 17,
   "metadata": {
    "id": "b0oAFJqMeojl"
   },
   "outputs": [],
   "source": [
    "df.drop(df[df['mileage'].apply(lambda x: x.split(' ')[-1]).str.lower() != 'kmpl'].index, inplace = True)"
   ]
  },
  {
   "cell_type": "code",
   "execution_count": 18,
   "metadata": {
    "colab": {
     "base_uri": "https://localhost:8080/",
     "height": 146
    },
    "id": "Eco96s15e4Tp",
    "outputId": "eeaa8dd7-da82-4b37-fb3f-5510a988bb65"
   },
   "outputs": [
    {
     "data": {
      "text/plain": [
       "mileage\n",
       "kmpl    15993\n",
       "Name: count, dtype: int64"
      ]
     },
     "execution_count": 18,
     "metadata": {},
     "output_type": "execute_result"
    }
   ],
   "source": [
    "df['mileage'].apply(lambda x: x.split(' ')[-1]).value_counts()\n"
   ]
  },
  {
   "cell_type": "code",
   "execution_count": 19,
   "metadata": {
    "id": "5hZ8GdUQe-K4"
   },
   "outputs": [],
   "source": [
    "df['mileage'] = df['mileage'].apply(lambda x: x.split(' ')[0]).astype(float)\n",
    "\n",
    "num_cols.append('mileage')\n"
   ]
  },
  {
   "cell_type": "code",
   "execution_count": 20,
   "metadata": {
    "colab": {
     "base_uri": "https://localhost:8080/"
    },
    "id": "LhPIzMIAfH3i",
    "outputId": "5ab24030-f7e6-4d97-a2d1-43d0e04d756a"
   },
   "outputs": [
    {
     "name": "stdout",
     "output_type": "stream",
     "text": [
      "<class 'pandas.core.frame.DataFrame'>\n",
      "Index: 15993 entries, 0 to 17445\n",
      "Data columns (total 18 columns):\n",
      " #   Column             Non-Null Count  Dtype  \n",
      "---  ------             --------------  -----  \n",
      " 0   Unnamed: 0         15993 non-null  int64  \n",
      " 1   full_name          15993 non-null  object \n",
      " 2   resale_price       15993 non-null  object \n",
      " 3   registered_year    15993 non-null  float64\n",
      " 4   engine_capacity    15993 non-null  object \n",
      " 5   insurance          15993 non-null  object \n",
      " 6   transmission_type  15993 non-null  object \n",
      " 7   kms_driven         15993 non-null  object \n",
      " 8   owner_type         15993 non-null  object \n",
      " 9   fuel_type          15993 non-null  object \n",
      " 10  max_power          15993 non-null  float64\n",
      " 11  seats              15993 non-null  float64\n",
      " 12  mileage            15993 non-null  float64\n",
      " 13  body_type          15993 non-null  object \n",
      " 14  city               15993 non-null  object \n",
      " 15  num_price          15993 non-null  float64\n",
      " 16  num_kms            15993 non-null  float64\n",
      " 17  num_engine         15993 non-null  float64\n",
      "dtypes: float64(7), int64(1), object(10)\n",
      "memory usage: 2.3+ MB\n"
     ]
    }
   ],
   "source": [
    "df.info()"
   ]
  },
  {
   "cell_type": "code",
   "execution_count": 21,
   "metadata": {
    "colab": {
     "base_uri": "https://localhost:8080/",
     "height": 206
    },
    "id": "VCG4gj6TfO6B",
    "outputId": "04b225aa-71c1-405f-f71d-59758491a772"
   },
   "outputs": [
    {
     "data": {
      "text/html": [
       "<div>\n",
       "<style scoped>\n",
       "    .dataframe tbody tr th:only-of-type {\n",
       "        vertical-align: middle;\n",
       "    }\n",
       "\n",
       "    .dataframe tbody tr th {\n",
       "        vertical-align: top;\n",
       "    }\n",
       "\n",
       "    .dataframe thead th {\n",
       "        text-align: right;\n",
       "    }\n",
       "</style>\n",
       "<table border=\"1\" class=\"dataframe\">\n",
       "  <thead>\n",
       "    <tr style=\"text-align: right;\">\n",
       "      <th></th>\n",
       "      <th>seats</th>\n",
       "      <th>registered_year</th>\n",
       "      <th>num_price</th>\n",
       "      <th>num_kms</th>\n",
       "      <th>num_engine</th>\n",
       "      <th>max_power</th>\n",
       "      <th>mileage</th>\n",
       "    </tr>\n",
       "  </thead>\n",
       "  <tbody>\n",
       "    <tr>\n",
       "      <th>0</th>\n",
       "      <td>5.0</td>\n",
       "      <td>2017.0</td>\n",
       "      <td>545000.0</td>\n",
       "      <td>40000.0</td>\n",
       "      <td>1197.0</td>\n",
       "      <td>83.10</td>\n",
       "      <td>21.40</td>\n",
       "    </tr>\n",
       "    <tr>\n",
       "      <th>1</th>\n",
       "      <td>7.0</td>\n",
       "      <td>2018.0</td>\n",
       "      <td>1000000.0</td>\n",
       "      <td>70000.0</td>\n",
       "      <td>2179.0</td>\n",
       "      <td>153.86</td>\n",
       "      <td>17.60</td>\n",
       "    </tr>\n",
       "    <tr>\n",
       "      <th>2</th>\n",
       "      <td>5.0</td>\n",
       "      <td>2015.0</td>\n",
       "      <td>450000.0</td>\n",
       "      <td>70000.0</td>\n",
       "      <td>1197.0</td>\n",
       "      <td>83.14</td>\n",
       "      <td>20.85</td>\n",
       "    </tr>\n",
       "    <tr>\n",
       "      <th>3</th>\n",
       "      <td>5.0</td>\n",
       "      <td>2015.0</td>\n",
       "      <td>450000.0</td>\n",
       "      <td>70000.0</td>\n",
       "      <td>1197.0</td>\n",
       "      <td>83.14</td>\n",
       "      <td>20.85</td>\n",
       "    </tr>\n",
       "    <tr>\n",
       "      <th>4</th>\n",
       "      <td>5.0</td>\n",
       "      <td>2009.0</td>\n",
       "      <td>160000.0</td>\n",
       "      <td>80000.0</td>\n",
       "      <td>1086.0</td>\n",
       "      <td>68.05</td>\n",
       "      <td>19.81</td>\n",
       "    </tr>\n",
       "  </tbody>\n",
       "</table>\n",
       "</div>"
      ],
      "text/plain": [
       "   seats  registered_year  num_price  num_kms  num_engine  max_power  mileage\n",
       "0    5.0           2017.0   545000.0  40000.0      1197.0      83.10    21.40\n",
       "1    7.0           2018.0  1000000.0  70000.0      2179.0     153.86    17.60\n",
       "2    5.0           2015.0   450000.0  70000.0      1197.0      83.14    20.85\n",
       "3    5.0           2015.0   450000.0  70000.0      1197.0      83.14    20.85\n",
       "4    5.0           2009.0   160000.0  80000.0      1086.0      68.05    19.81"
      ]
     },
     "execution_count": 21,
     "metadata": {},
     "output_type": "execute_result"
    }
   ],
   "source": [
    "features=df[num_cols].copy()\n",
    "features.head()"
   ]
  },
  {
   "cell_type": "markdown",
   "metadata": {
    "id": "AfsPIMOJgkdu"
   },
   "source": [
    "## One Hot Encoding"
   ]
  },
  {
   "cell_type": "code",
   "execution_count": 22,
   "metadata": {
    "id": "qehDv0WMfl0N"
   },
   "outputs": [],
   "source": [
    "categorical_columns = ['city', 'body_type', 'fuel_type', 'owner_type', 'insurance', 'transmission_type']"
   ]
  },
  {
   "cell_type": "code",
   "execution_count": 23,
   "metadata": {
    "colab": {
     "base_uri": "https://localhost:8080/",
     "height": 273
    },
    "id": "YnscyhwkgodH",
    "outputId": "cd515f35-19ff-4409-d47a-dc4dca630c1e"
   },
   "outputs": [
    {
     "data": {
      "text/html": [
       "<div>\n",
       "<style scoped>\n",
       "    .dataframe tbody tr th:only-of-type {\n",
       "        vertical-align: middle;\n",
       "    }\n",
       "\n",
       "    .dataframe tbody tr th {\n",
       "        vertical-align: top;\n",
       "    }\n",
       "\n",
       "    .dataframe thead th {\n",
       "        text-align: right;\n",
       "    }\n",
       "</style>\n",
       "<table border=\"1\" class=\"dataframe\">\n",
       "  <thead>\n",
       "    <tr style=\"text-align: right;\">\n",
       "      <th></th>\n",
       "      <th>city_Agra</th>\n",
       "      <th>city_Ahmedabad</th>\n",
       "      <th>city_Bangalore</th>\n",
       "      <th>city_Chandigarh</th>\n",
       "      <th>city_Chennai</th>\n",
       "      <th>city_Delhi</th>\n",
       "      <th>city_Gurgaon</th>\n",
       "      <th>city_Hyderabad</th>\n",
       "      <th>city_Jaipur</th>\n",
       "      <th>city_Kolkata</th>\n",
       "      <th>...</th>\n",
       "      <th>owner_type_Third Owner</th>\n",
       "      <th>insurance_1</th>\n",
       "      <th>insurance_2</th>\n",
       "      <th>insurance_Comprehensive</th>\n",
       "      <th>insurance_Not Available</th>\n",
       "      <th>insurance_Third Party</th>\n",
       "      <th>insurance_Third Party insurance</th>\n",
       "      <th>insurance_Zero Dep</th>\n",
       "      <th>transmission_type_Automatic</th>\n",
       "      <th>transmission_type_Manual</th>\n",
       "    </tr>\n",
       "  </thead>\n",
       "  <tbody>\n",
       "    <tr>\n",
       "      <th>0</th>\n",
       "      <td>True</td>\n",
       "      <td>False</td>\n",
       "      <td>False</td>\n",
       "      <td>False</td>\n",
       "      <td>False</td>\n",
       "      <td>False</td>\n",
       "      <td>False</td>\n",
       "      <td>False</td>\n",
       "      <td>False</td>\n",
       "      <td>False</td>\n",
       "      <td>...</td>\n",
       "      <td>False</td>\n",
       "      <td>False</td>\n",
       "      <td>False</td>\n",
       "      <td>False</td>\n",
       "      <td>False</td>\n",
       "      <td>False</td>\n",
       "      <td>True</td>\n",
       "      <td>False</td>\n",
       "      <td>False</td>\n",
       "      <td>True</td>\n",
       "    </tr>\n",
       "    <tr>\n",
       "      <th>1</th>\n",
       "      <td>True</td>\n",
       "      <td>False</td>\n",
       "      <td>False</td>\n",
       "      <td>False</td>\n",
       "      <td>False</td>\n",
       "      <td>False</td>\n",
       "      <td>False</td>\n",
       "      <td>False</td>\n",
       "      <td>False</td>\n",
       "      <td>False</td>\n",
       "      <td>...</td>\n",
       "      <td>False</td>\n",
       "      <td>False</td>\n",
       "      <td>False</td>\n",
       "      <td>False</td>\n",
       "      <td>False</td>\n",
       "      <td>False</td>\n",
       "      <td>True</td>\n",
       "      <td>False</td>\n",
       "      <td>True</td>\n",
       "      <td>False</td>\n",
       "    </tr>\n",
       "    <tr>\n",
       "      <th>2</th>\n",
       "      <td>True</td>\n",
       "      <td>False</td>\n",
       "      <td>False</td>\n",
       "      <td>False</td>\n",
       "      <td>False</td>\n",
       "      <td>False</td>\n",
       "      <td>False</td>\n",
       "      <td>False</td>\n",
       "      <td>False</td>\n",
       "      <td>False</td>\n",
       "      <td>...</td>\n",
       "      <td>False</td>\n",
       "      <td>False</td>\n",
       "      <td>False</td>\n",
       "      <td>False</td>\n",
       "      <td>False</td>\n",
       "      <td>False</td>\n",
       "      <td>True</td>\n",
       "      <td>False</td>\n",
       "      <td>False</td>\n",
       "      <td>True</td>\n",
       "    </tr>\n",
       "    <tr>\n",
       "      <th>3</th>\n",
       "      <td>True</td>\n",
       "      <td>False</td>\n",
       "      <td>False</td>\n",
       "      <td>False</td>\n",
       "      <td>False</td>\n",
       "      <td>False</td>\n",
       "      <td>False</td>\n",
       "      <td>False</td>\n",
       "      <td>False</td>\n",
       "      <td>False</td>\n",
       "      <td>...</td>\n",
       "      <td>False</td>\n",
       "      <td>False</td>\n",
       "      <td>False</td>\n",
       "      <td>False</td>\n",
       "      <td>False</td>\n",
       "      <td>False</td>\n",
       "      <td>True</td>\n",
       "      <td>False</td>\n",
       "      <td>False</td>\n",
       "      <td>True</td>\n",
       "    </tr>\n",
       "    <tr>\n",
       "      <th>4</th>\n",
       "      <td>True</td>\n",
       "      <td>False</td>\n",
       "      <td>False</td>\n",
       "      <td>False</td>\n",
       "      <td>False</td>\n",
       "      <td>False</td>\n",
       "      <td>False</td>\n",
       "      <td>False</td>\n",
       "      <td>False</td>\n",
       "      <td>False</td>\n",
       "      <td>...</td>\n",
       "      <td>False</td>\n",
       "      <td>False</td>\n",
       "      <td>False</td>\n",
       "      <td>False</td>\n",
       "      <td>False</td>\n",
       "      <td>False</td>\n",
       "      <td>True</td>\n",
       "      <td>False</td>\n",
       "      <td>False</td>\n",
       "      <td>True</td>\n",
       "    </tr>\n",
       "  </tbody>\n",
       "</table>\n",
       "<p>5 rows × 55 columns</p>\n",
       "</div>"
      ],
      "text/plain": [
       "   city_Agra  city_Ahmedabad  city_Bangalore  city_Chandigarh  city_Chennai  \\\n",
       "0       True           False           False            False         False   \n",
       "1       True           False           False            False         False   \n",
       "2       True           False           False            False         False   \n",
       "3       True           False           False            False         False   \n",
       "4       True           False           False            False         False   \n",
       "\n",
       "   city_Delhi  city_Gurgaon  city_Hyderabad  city_Jaipur  city_Kolkata  ...  \\\n",
       "0       False         False           False        False         False  ...   \n",
       "1       False         False           False        False         False  ...   \n",
       "2       False         False           False        False         False  ...   \n",
       "3       False         False           False        False         False  ...   \n",
       "4       False         False           False        False         False  ...   \n",
       "\n",
       "   owner_type_Third Owner  insurance_1  insurance_2  insurance_Comprehensive  \\\n",
       "0                   False        False        False                    False   \n",
       "1                   False        False        False                    False   \n",
       "2                   False        False        False                    False   \n",
       "3                   False        False        False                    False   \n",
       "4                   False        False        False                    False   \n",
       "\n",
       "   insurance_Not Available  insurance_Third Party  \\\n",
       "0                    False                  False   \n",
       "1                    False                  False   \n",
       "2                    False                  False   \n",
       "3                    False                  False   \n",
       "4                    False                  False   \n",
       "\n",
       "   insurance_Third Party insurance  insurance_Zero Dep  \\\n",
       "0                             True               False   \n",
       "1                             True               False   \n",
       "2                             True               False   \n",
       "3                             True               False   \n",
       "4                             True               False   \n",
       "\n",
       "   transmission_type_Automatic  transmission_type_Manual  \n",
       "0                        False                      True  \n",
       "1                         True                     False  \n",
       "2                        False                      True  \n",
       "3                        False                      True  \n",
       "4                        False                      True  \n",
       "\n",
       "[5 rows x 55 columns]"
      ]
     },
     "execution_count": 23,
     "metadata": {},
     "output_type": "execute_result"
    }
   ],
   "source": [
    "from sklearn.preprocessing import OneHotEncoder\n",
    "\n",
    "cat_encoded = pd.get_dummies(df[categorical_columns])\n",
    "cat_encoded.head()"
   ]
  },
  {
   "cell_type": "code",
   "execution_count": 24,
   "metadata": {
    "colab": {
     "base_uri": "https://localhost:8080/"
    },
    "id": "dFSYMvyZpIe3",
    "outputId": "b84594d9-00a2-42f8-8ce1-0648df842e46"
   },
   "outputs": [
    {
     "data": {
      "text/plain": [
       "232"
      ]
     },
     "execution_count": 24,
     "metadata": {},
     "output_type": "execute_result"
    }
   ],
   "source": [
    "df['model'] = df['full_name'].apply(lambda x: x.split(' ')[1] + \" \" + x.split(' ')[2])\n",
    "\n",
    "df['model'].nunique()"
   ]
  },
  {
   "cell_type": "code",
   "execution_count": 25,
   "metadata": {
    "colab": {
     "base_uri": "https://localhost:8080/",
     "height": 253
    },
    "id": "53q6GcpMT5ex",
    "outputId": "1178a012-e2ed-4757-b54d-99397322ccd2"
   },
   "outputs": [
    {
     "data": {
      "text/html": [
       "<div>\n",
       "<style scoped>\n",
       "    .dataframe tbody tr th:only-of-type {\n",
       "        vertical-align: middle;\n",
       "    }\n",
       "\n",
       "    .dataframe tbody tr th {\n",
       "        vertical-align: top;\n",
       "    }\n",
       "\n",
       "    .dataframe thead th {\n",
       "        text-align: right;\n",
       "    }\n",
       "</style>\n",
       "<table border=\"1\" class=\"dataframe\">\n",
       "  <thead>\n",
       "    <tr style=\"text-align: right;\">\n",
       "      <th></th>\n",
       "      <th>Audi A3</th>\n",
       "      <th>Audi A4</th>\n",
       "      <th>Audi A6</th>\n",
       "      <th>Audi A8</th>\n",
       "      <th>Audi Q3</th>\n",
       "      <th>Audi Q5</th>\n",
       "      <th>Audi Q7</th>\n",
       "      <th>Audi RS5</th>\n",
       "      <th>Audi S5</th>\n",
       "      <th>BMW 1</th>\n",
       "      <th>...</th>\n",
       "      <th>Volkswagen Touareg</th>\n",
       "      <th>Volkswagen Vento</th>\n",
       "      <th>Volkswagen Virtus</th>\n",
       "      <th>Volvo S60</th>\n",
       "      <th>Volvo S90</th>\n",
       "      <th>Volvo V40</th>\n",
       "      <th>Volvo V90</th>\n",
       "      <th>Volvo XC</th>\n",
       "      <th>Volvo XC40</th>\n",
       "      <th>Volvo XC60</th>\n",
       "    </tr>\n",
       "  </thead>\n",
       "  <tbody>\n",
       "    <tr>\n",
       "      <th>0</th>\n",
       "      <td>False</td>\n",
       "      <td>False</td>\n",
       "      <td>False</td>\n",
       "      <td>False</td>\n",
       "      <td>False</td>\n",
       "      <td>False</td>\n",
       "      <td>False</td>\n",
       "      <td>False</td>\n",
       "      <td>False</td>\n",
       "      <td>False</td>\n",
       "      <td>...</td>\n",
       "      <td>False</td>\n",
       "      <td>False</td>\n",
       "      <td>False</td>\n",
       "      <td>False</td>\n",
       "      <td>False</td>\n",
       "      <td>False</td>\n",
       "      <td>False</td>\n",
       "      <td>False</td>\n",
       "      <td>False</td>\n",
       "      <td>False</td>\n",
       "    </tr>\n",
       "    <tr>\n",
       "      <th>1</th>\n",
       "      <td>False</td>\n",
       "      <td>False</td>\n",
       "      <td>False</td>\n",
       "      <td>False</td>\n",
       "      <td>False</td>\n",
       "      <td>False</td>\n",
       "      <td>False</td>\n",
       "      <td>False</td>\n",
       "      <td>False</td>\n",
       "      <td>False</td>\n",
       "      <td>...</td>\n",
       "      <td>False</td>\n",
       "      <td>False</td>\n",
       "      <td>False</td>\n",
       "      <td>False</td>\n",
       "      <td>False</td>\n",
       "      <td>False</td>\n",
       "      <td>False</td>\n",
       "      <td>False</td>\n",
       "      <td>False</td>\n",
       "      <td>False</td>\n",
       "    </tr>\n",
       "    <tr>\n",
       "      <th>2</th>\n",
       "      <td>False</td>\n",
       "      <td>False</td>\n",
       "      <td>False</td>\n",
       "      <td>False</td>\n",
       "      <td>False</td>\n",
       "      <td>False</td>\n",
       "      <td>False</td>\n",
       "      <td>False</td>\n",
       "      <td>False</td>\n",
       "      <td>False</td>\n",
       "      <td>...</td>\n",
       "      <td>False</td>\n",
       "      <td>False</td>\n",
       "      <td>False</td>\n",
       "      <td>False</td>\n",
       "      <td>False</td>\n",
       "      <td>False</td>\n",
       "      <td>False</td>\n",
       "      <td>False</td>\n",
       "      <td>False</td>\n",
       "      <td>False</td>\n",
       "    </tr>\n",
       "    <tr>\n",
       "      <th>3</th>\n",
       "      <td>False</td>\n",
       "      <td>False</td>\n",
       "      <td>False</td>\n",
       "      <td>False</td>\n",
       "      <td>False</td>\n",
       "      <td>False</td>\n",
       "      <td>False</td>\n",
       "      <td>False</td>\n",
       "      <td>False</td>\n",
       "      <td>False</td>\n",
       "      <td>...</td>\n",
       "      <td>False</td>\n",
       "      <td>False</td>\n",
       "      <td>False</td>\n",
       "      <td>False</td>\n",
       "      <td>False</td>\n",
       "      <td>False</td>\n",
       "      <td>False</td>\n",
       "      <td>False</td>\n",
       "      <td>False</td>\n",
       "      <td>False</td>\n",
       "    </tr>\n",
       "    <tr>\n",
       "      <th>4</th>\n",
       "      <td>False</td>\n",
       "      <td>False</td>\n",
       "      <td>False</td>\n",
       "      <td>False</td>\n",
       "      <td>False</td>\n",
       "      <td>False</td>\n",
       "      <td>False</td>\n",
       "      <td>False</td>\n",
       "      <td>False</td>\n",
       "      <td>False</td>\n",
       "      <td>...</td>\n",
       "      <td>False</td>\n",
       "      <td>False</td>\n",
       "      <td>False</td>\n",
       "      <td>False</td>\n",
       "      <td>False</td>\n",
       "      <td>False</td>\n",
       "      <td>False</td>\n",
       "      <td>False</td>\n",
       "      <td>False</td>\n",
       "      <td>False</td>\n",
       "    </tr>\n",
       "  </tbody>\n",
       "</table>\n",
       "<p>5 rows × 232 columns</p>\n",
       "</div>"
      ],
      "text/plain": [
       "   Audi A3  Audi A4  Audi A6  Audi A8  Audi Q3  Audi Q5  Audi Q7  Audi RS5  \\\n",
       "0    False    False    False    False    False    False    False     False   \n",
       "1    False    False    False    False    False    False    False     False   \n",
       "2    False    False    False    False    False    False    False     False   \n",
       "3    False    False    False    False    False    False    False     False   \n",
       "4    False    False    False    False    False    False    False     False   \n",
       "\n",
       "   Audi S5  BMW 1  ...  Volkswagen Touareg  Volkswagen Vento  \\\n",
       "0    False  False  ...               False             False   \n",
       "1    False  False  ...               False             False   \n",
       "2    False  False  ...               False             False   \n",
       "3    False  False  ...               False             False   \n",
       "4    False  False  ...               False             False   \n",
       "\n",
       "   Volkswagen Virtus  Volvo S60  Volvo S90  Volvo V40  Volvo V90  Volvo XC  \\\n",
       "0              False      False      False      False      False     False   \n",
       "1              False      False      False      False      False     False   \n",
       "2              False      False      False      False      False     False   \n",
       "3              False      False      False      False      False     False   \n",
       "4              False      False      False      False      False     False   \n",
       "\n",
       "   Volvo XC40  Volvo XC60  \n",
       "0       False       False  \n",
       "1       False       False  \n",
       "2       False       False  \n",
       "3       False       False  \n",
       "4       False       False  \n",
       "\n",
       "[5 rows x 232 columns]"
      ]
     },
     "execution_count": 25,
     "metadata": {},
     "output_type": "execute_result"
    }
   ],
   "source": [
    "model_encoded = pd.get_dummies(df['model'])\n",
    "model_encoded.head()\n"
   ]
  },
  {
   "cell_type": "code",
   "execution_count": 26,
   "metadata": {
    "colab": {
     "base_uri": "https://localhost:8080/",
     "height": 273
    },
    "id": "bUo6coI_USat",
    "outputId": "da2e34a2-24c3-457a-a133-bec82fc7358a"
   },
   "outputs": [
    {
     "data": {
      "text/html": [
       "<div>\n",
       "<style scoped>\n",
       "    .dataframe tbody tr th:only-of-type {\n",
       "        vertical-align: middle;\n",
       "    }\n",
       "\n",
       "    .dataframe tbody tr th {\n",
       "        vertical-align: top;\n",
       "    }\n",
       "\n",
       "    .dataframe thead th {\n",
       "        text-align: right;\n",
       "    }\n",
       "</style>\n",
       "<table border=\"1\" class=\"dataframe\">\n",
       "  <thead>\n",
       "    <tr style=\"text-align: right;\">\n",
       "      <th></th>\n",
       "      <th>seats</th>\n",
       "      <th>registered_year</th>\n",
       "      <th>num_price</th>\n",
       "      <th>num_kms</th>\n",
       "      <th>num_engine</th>\n",
       "      <th>max_power</th>\n",
       "      <th>mileage</th>\n",
       "      <th>city_Agra</th>\n",
       "      <th>city_Ahmedabad</th>\n",
       "      <th>city_Bangalore</th>\n",
       "      <th>...</th>\n",
       "      <th>Volkswagen Touareg</th>\n",
       "      <th>Volkswagen Vento</th>\n",
       "      <th>Volkswagen Virtus</th>\n",
       "      <th>Volvo S60</th>\n",
       "      <th>Volvo S90</th>\n",
       "      <th>Volvo V40</th>\n",
       "      <th>Volvo V90</th>\n",
       "      <th>Volvo XC</th>\n",
       "      <th>Volvo XC40</th>\n",
       "      <th>Volvo XC60</th>\n",
       "    </tr>\n",
       "  </thead>\n",
       "  <tbody>\n",
       "    <tr>\n",
       "      <th>0</th>\n",
       "      <td>5.0</td>\n",
       "      <td>2017.0</td>\n",
       "      <td>545000.0</td>\n",
       "      <td>40000.0</td>\n",
       "      <td>1197.0</td>\n",
       "      <td>83.10</td>\n",
       "      <td>21.40</td>\n",
       "      <td>True</td>\n",
       "      <td>False</td>\n",
       "      <td>False</td>\n",
       "      <td>...</td>\n",
       "      <td>False</td>\n",
       "      <td>False</td>\n",
       "      <td>False</td>\n",
       "      <td>False</td>\n",
       "      <td>False</td>\n",
       "      <td>False</td>\n",
       "      <td>False</td>\n",
       "      <td>False</td>\n",
       "      <td>False</td>\n",
       "      <td>False</td>\n",
       "    </tr>\n",
       "    <tr>\n",
       "      <th>1</th>\n",
       "      <td>7.0</td>\n",
       "      <td>2018.0</td>\n",
       "      <td>1000000.0</td>\n",
       "      <td>70000.0</td>\n",
       "      <td>2179.0</td>\n",
       "      <td>153.86</td>\n",
       "      <td>17.60</td>\n",
       "      <td>True</td>\n",
       "      <td>False</td>\n",
       "      <td>False</td>\n",
       "      <td>...</td>\n",
       "      <td>False</td>\n",
       "      <td>False</td>\n",
       "      <td>False</td>\n",
       "      <td>False</td>\n",
       "      <td>False</td>\n",
       "      <td>False</td>\n",
       "      <td>False</td>\n",
       "      <td>False</td>\n",
       "      <td>False</td>\n",
       "      <td>False</td>\n",
       "    </tr>\n",
       "    <tr>\n",
       "      <th>2</th>\n",
       "      <td>5.0</td>\n",
       "      <td>2015.0</td>\n",
       "      <td>450000.0</td>\n",
       "      <td>70000.0</td>\n",
       "      <td>1197.0</td>\n",
       "      <td>83.14</td>\n",
       "      <td>20.85</td>\n",
       "      <td>True</td>\n",
       "      <td>False</td>\n",
       "      <td>False</td>\n",
       "      <td>...</td>\n",
       "      <td>False</td>\n",
       "      <td>False</td>\n",
       "      <td>False</td>\n",
       "      <td>False</td>\n",
       "      <td>False</td>\n",
       "      <td>False</td>\n",
       "      <td>False</td>\n",
       "      <td>False</td>\n",
       "      <td>False</td>\n",
       "      <td>False</td>\n",
       "    </tr>\n",
       "    <tr>\n",
       "      <th>3</th>\n",
       "      <td>5.0</td>\n",
       "      <td>2015.0</td>\n",
       "      <td>450000.0</td>\n",
       "      <td>70000.0</td>\n",
       "      <td>1197.0</td>\n",
       "      <td>83.14</td>\n",
       "      <td>20.85</td>\n",
       "      <td>True</td>\n",
       "      <td>False</td>\n",
       "      <td>False</td>\n",
       "      <td>...</td>\n",
       "      <td>False</td>\n",
       "      <td>False</td>\n",
       "      <td>False</td>\n",
       "      <td>False</td>\n",
       "      <td>False</td>\n",
       "      <td>False</td>\n",
       "      <td>False</td>\n",
       "      <td>False</td>\n",
       "      <td>False</td>\n",
       "      <td>False</td>\n",
       "    </tr>\n",
       "    <tr>\n",
       "      <th>4</th>\n",
       "      <td>5.0</td>\n",
       "      <td>2009.0</td>\n",
       "      <td>160000.0</td>\n",
       "      <td>80000.0</td>\n",
       "      <td>1086.0</td>\n",
       "      <td>68.05</td>\n",
       "      <td>19.81</td>\n",
       "      <td>True</td>\n",
       "      <td>False</td>\n",
       "      <td>False</td>\n",
       "      <td>...</td>\n",
       "      <td>False</td>\n",
       "      <td>False</td>\n",
       "      <td>False</td>\n",
       "      <td>False</td>\n",
       "      <td>False</td>\n",
       "      <td>False</td>\n",
       "      <td>False</td>\n",
       "      <td>False</td>\n",
       "      <td>False</td>\n",
       "      <td>False</td>\n",
       "    </tr>\n",
       "  </tbody>\n",
       "</table>\n",
       "<p>5 rows × 294 columns</p>\n",
       "</div>"
      ],
      "text/plain": [
       "   seats  registered_year  num_price  num_kms  num_engine  max_power  mileage  \\\n",
       "0    5.0           2017.0   545000.0  40000.0      1197.0      83.10    21.40   \n",
       "1    7.0           2018.0  1000000.0  70000.0      2179.0     153.86    17.60   \n",
       "2    5.0           2015.0   450000.0  70000.0      1197.0      83.14    20.85   \n",
       "3    5.0           2015.0   450000.0  70000.0      1197.0      83.14    20.85   \n",
       "4    5.0           2009.0   160000.0  80000.0      1086.0      68.05    19.81   \n",
       "\n",
       "   city_Agra  city_Ahmedabad  city_Bangalore  ...  Volkswagen Touareg  \\\n",
       "0       True           False           False  ...               False   \n",
       "1       True           False           False  ...               False   \n",
       "2       True           False           False  ...               False   \n",
       "3       True           False           False  ...               False   \n",
       "4       True           False           False  ...               False   \n",
       "\n",
       "   Volkswagen Vento  Volkswagen Virtus  Volvo S60  Volvo S90  Volvo V40  \\\n",
       "0             False              False      False      False      False   \n",
       "1             False              False      False      False      False   \n",
       "2             False              False      False      False      False   \n",
       "3             False              False      False      False      False   \n",
       "4             False              False      False      False      False   \n",
       "\n",
       "   Volvo V90  Volvo XC  Volvo XC40  Volvo XC60  \n",
       "0      False     False       False       False  \n",
       "1      False     False       False       False  \n",
       "2      False     False       False       False  \n",
       "3      False     False       False       False  \n",
       "4      False     False       False       False  \n",
       "\n",
       "[5 rows x 294 columns]"
      ]
     },
     "execution_count": 26,
     "metadata": {},
     "output_type": "execute_result"
    }
   ],
   "source": [
    "df = pd.concat([df[features.columns], cat_encoded, model_encoded], axis = 1)\n",
    "df.head()"
   ]
  },
  {
   "cell_type": "markdown",
   "metadata": {
    "id": "ghi-5Ky1UufE"
   },
   "source": [
    "## Implementation of Decision Tree"
   ]
  },
  {
   "cell_type": "code",
   "execution_count": 27,
   "metadata": {
    "id": "pQVquVFaUWY4"
   },
   "outputs": [],
   "source": [
    "scalable_cols = num_cols.remove('num_price')"
   ]
  },
  {
   "cell_type": "code",
   "execution_count": 28,
   "metadata": {
    "colab": {
     "base_uri": "https://localhost:8080/"
    },
    "id": "qpKoghGaUYfd",
    "outputId": "16ff5ee8-7513-431d-87dc-bf71e90325fb"
   },
   "outputs": [
    {
     "data": {
      "text/plain": [
       "(15993, 293)"
      ]
     },
     "execution_count": 28,
     "metadata": {},
     "output_type": "execute_result"
    }
   ],
   "source": [
    "y = df['num_price']\n",
    "X = df.drop('num_price', axis = 1)\n",
    "\n",
    "X.shape"
   ]
  },
  {
   "cell_type": "code",
   "execution_count": 29,
   "metadata": {
    "colab": {
     "base_uri": "https://localhost:8080/"
    },
    "id": "eRw_nxkWUbE2",
    "outputId": "e0699ecb-f7ff-4a5f-9623-c7d375d4190f"
   },
   "outputs": [
    {
     "name": "stdout",
     "output_type": "stream",
     "text": [
      "X_train : (12794, 293)\n",
      "X_test : (3199, 293)\n"
     ]
    }
   ],
   "source": [
    "X_train, X_test, y_train, y_test = train_test_split(X, y, test_size=0.2, random_state=42)\n",
    "print(\"X_train : \" + str(X_train.shape))\n",
    "print(\"X_test : \" + str(X_test.shape))"
   ]
  },
  {
   "cell_type": "code",
   "execution_count": 30,
   "metadata": {
    "colab": {
     "base_uri": "https://localhost:8080/",
     "height": 80
    },
    "id": "FtG15t5LUeTo",
    "outputId": "179fbaf7-5fa1-4105-f60c-2ad0f39f6eb6"
   },
   "outputs": [
    {
     "data": {
      "text/html": [
       "<style>#sk-container-id-1 {color: black;}#sk-container-id-1 pre{padding: 0;}#sk-container-id-1 div.sk-toggleable {background-color: white;}#sk-container-id-1 label.sk-toggleable__label {cursor: pointer;display: block;width: 100%;margin-bottom: 0;padding: 0.3em;box-sizing: border-box;text-align: center;}#sk-container-id-1 label.sk-toggleable__label-arrow:before {content: \"▸\";float: left;margin-right: 0.25em;color: #696969;}#sk-container-id-1 label.sk-toggleable__label-arrow:hover:before {color: black;}#sk-container-id-1 div.sk-estimator:hover label.sk-toggleable__label-arrow:before {color: black;}#sk-container-id-1 div.sk-toggleable__content {max-height: 0;max-width: 0;overflow: hidden;text-align: left;background-color: #f0f8ff;}#sk-container-id-1 div.sk-toggleable__content pre {margin: 0.2em;color: black;border-radius: 0.25em;background-color: #f0f8ff;}#sk-container-id-1 input.sk-toggleable__control:checked~div.sk-toggleable__content {max-height: 200px;max-width: 100%;overflow: auto;}#sk-container-id-1 input.sk-toggleable__control:checked~label.sk-toggleable__label-arrow:before {content: \"▾\";}#sk-container-id-1 div.sk-estimator input.sk-toggleable__control:checked~label.sk-toggleable__label {background-color: #d4ebff;}#sk-container-id-1 div.sk-label input.sk-toggleable__control:checked~label.sk-toggleable__label {background-color: #d4ebff;}#sk-container-id-1 input.sk-hidden--visually {border: 0;clip: rect(1px 1px 1px 1px);clip: rect(1px, 1px, 1px, 1px);height: 1px;margin: -1px;overflow: hidden;padding: 0;position: absolute;width: 1px;}#sk-container-id-1 div.sk-estimator {font-family: monospace;background-color: #f0f8ff;border: 1px dotted black;border-radius: 0.25em;box-sizing: border-box;margin-bottom: 0.5em;}#sk-container-id-1 div.sk-estimator:hover {background-color: #d4ebff;}#sk-container-id-1 div.sk-parallel-item::after {content: \"\";width: 100%;border-bottom: 1px solid gray;flex-grow: 1;}#sk-container-id-1 div.sk-label:hover label.sk-toggleable__label {background-color: #d4ebff;}#sk-container-id-1 div.sk-serial::before {content: \"\";position: absolute;border-left: 1px solid gray;box-sizing: border-box;top: 0;bottom: 0;left: 50%;z-index: 0;}#sk-container-id-1 div.sk-serial {display: flex;flex-direction: column;align-items: center;background-color: white;padding-right: 0.2em;padding-left: 0.2em;position: relative;}#sk-container-id-1 div.sk-item {position: relative;z-index: 1;}#sk-container-id-1 div.sk-parallel {display: flex;align-items: stretch;justify-content: center;background-color: white;position: relative;}#sk-container-id-1 div.sk-item::before, #sk-container-id-1 div.sk-parallel-item::before {content: \"\";position: absolute;border-left: 1px solid gray;box-sizing: border-box;top: 0;bottom: 0;left: 50%;z-index: -1;}#sk-container-id-1 div.sk-parallel-item {display: flex;flex-direction: column;z-index: 1;position: relative;background-color: white;}#sk-container-id-1 div.sk-parallel-item:first-child::after {align-self: flex-end;width: 50%;}#sk-container-id-1 div.sk-parallel-item:last-child::after {align-self: flex-start;width: 50%;}#sk-container-id-1 div.sk-parallel-item:only-child::after {width: 0;}#sk-container-id-1 div.sk-dashed-wrapped {border: 1px dashed gray;margin: 0 0.4em 0.5em 0.4em;box-sizing: border-box;padding-bottom: 0.4em;background-color: white;}#sk-container-id-1 div.sk-label label {font-family: monospace;font-weight: bold;display: inline-block;line-height: 1.2em;}#sk-container-id-1 div.sk-label-container {text-align: center;}#sk-container-id-1 div.sk-container {/* jupyter's `normalize.less` sets `[hidden] { display: none; }` but bootstrap.min.css set `[hidden] { display: none !important; }` so we also need the `!important` here to be able to override the default hidden behavior on the sphinx rendered scikit-learn.org. See: https://github.com/scikit-learn/scikit-learn/issues/21755 */display: inline-block !important;position: relative;}#sk-container-id-1 div.sk-text-repr-fallback {display: none;}</style><div id=\"sk-container-id-1\" class=\"sk-top-container\"><div class=\"sk-text-repr-fallback\"><pre>DecisionTreeRegressor(max_depth=5, random_state=45)</pre><b>In a Jupyter environment, please rerun this cell to show the HTML representation or trust the notebook. <br />On GitHub, the HTML representation is unable to render, please try loading this page with nbviewer.org.</b></div><div class=\"sk-container\" hidden><div class=\"sk-item\"><div class=\"sk-estimator sk-toggleable\"><input class=\"sk-toggleable__control sk-hidden--visually\" id=\"sk-estimator-id-1\" type=\"checkbox\" checked><label for=\"sk-estimator-id-1\" class=\"sk-toggleable__label sk-toggleable__label-arrow\">DecisionTreeRegressor</label><div class=\"sk-toggleable__content\"><pre>DecisionTreeRegressor(max_depth=5, random_state=45)</pre></div></div></div></div></div>"
      ],
      "text/plain": [
       "DecisionTreeRegressor(max_depth=5, random_state=45)"
      ]
     },
     "execution_count": 30,
     "metadata": {},
     "output_type": "execute_result"
    }
   ],
   "source": [
    "from sklearn.tree import DecisionTreeRegressor\n",
    "\n",
    "tree_reg = DecisionTreeRegressor(max_depth = 5, random_state = 45)\n",
    "tree_reg.fit(X_train, y_train)"
   ]
  },
  {
   "cell_type": "code",
   "execution_count": 31,
   "metadata": {
    "colab": {
     "base_uri": "https://localhost:8080/"
    },
    "id": "feHKXMkPUhO4",
    "outputId": "e805eea2-812a-4e42-dcda-d36a7603470a"
   },
   "outputs": [
    {
     "name": "stdout",
     "output_type": "stream",
     "text": [
      "MSE:  255755129180.504\n",
      "RMSE:  505722.38350749714\n",
      "The accuracy of our model is 79.0%\n",
      "The accuracy of our training data is 87.0%\n"
     ]
    }
   ],
   "source": [
    "y_predict = tree_reg.predict(X_test)\n",
    "tree_mse = mean_squared_error(y_test, y_predict)\n",
    "tree_rmse = np.sqrt(tree_mse)\n",
    "print(\"MSE: \" , tree_mse)\n",
    "print(\"RMSE: \" , tree_rmse)\n",
    "score2 = r2_score(y_test, y_predict)\n",
    "print(\"The accuracy of our model is {}%\".format(round(score2, 2) *100))\n",
    "\n",
    "score2 = r2_score(y_train, tree_reg.predict(X_train))\n",
    "print(\"The accuracy of our training data is {}%\".format(round(score2, 2) *100))"
   ]
  },
  {
   "cell_type": "markdown",
   "metadata": {
    "id": "YTcrBNBb2hyg"
   },
   "source": [
    "## Data Visualization"
   ]
  },
  {
   "cell_type": "code",
   "execution_count": 32,
   "metadata": {
    "colab": {
     "base_uri": "https://localhost:8080/",
     "height": 672
    },
    "id": "-dexf_zMudRd",
    "outputId": "992925fa-6e8c-454c-b07e-cf80ddb65fb8"
   },
   "outputs": [
    {
     "data": {
      "image/png": "[encoded data removed]",
      "text/plain": [
       "<Figure size 3000x1500 with 1 Axes>"
      ]
     },
     "metadata": {},
     "output_type": "display_data"
    }
   ],
   "source": [
    "plt.figure(figsize=(30, 15))\n",
    "plot_tree(tree_reg, filled=True, feature_names=X_train.columns, rounded=True)\n",
    "plt.title(\"Decision Tree\")\n",
    "plt.show()\n"
   ]
  }
 ],
 "metadata": {
  "colab": {
   "provenance": []
  },
  "kernelspec": {
   "display_name": "Python 3 (ipykernel)",
   "language": "python",
   "name": "python3"
  },
  "language_info": {
   "codemirror_mode": {
    "name": "ipython",
    "version": 3
   },
   "file_extension": ".py",
   "mimetype": "text/x-python",
   "name": "python",
   "nbconvert_exporter": "python",
   "pygments_lexer": "ipython3",
   "version": "3.8.10"
  }
 },
 "nbformat": 4,
 "nbformat_minor": 4
}
